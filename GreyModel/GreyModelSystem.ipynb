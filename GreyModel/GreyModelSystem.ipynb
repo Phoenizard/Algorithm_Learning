{
 "cells": [
  {
   "cell_type": "markdown",
   "source": [
    "## 数学建模算法：灰色系统\n",
    "\n",
    "灰色系统主要分为四个板块：\n",
    "\n",
    "1. 灰色关联分析：用于评估、排序类问题\n",
    "2. 灰色预测模型：用于小样本时序模型预测\n",
    "3. 灰色决策\n",
    "4. 灰色预测控制\n",
    "\n",
    "数学建模中我们常使用前两个板块。"
   ],
   "metadata": {
    "collapsed": false
   },
   "id": "5e39a0a50c101867"
  },
  {
   "cell_type": "markdown",
   "source": [
    "### 灰色关联分析\n",
    "\n",
    "与层次分析法的作用一直，都是用来评估并寻找最优解的算法：\n",
    "\n",
    "#### 算法流程\n",
    "\n",
    "在介绍算法流程时，本文采用教师评估案例来进行举例说明：\n",
    "\n",
    "| No. | 专业分 | 外语 | 工作量 | 科研水平 | 论文 | 著作 | 出勤 |\n",
    "|-----|-----|----|-----|------|----|----|----|\n",
    "| 1   | 8   | 9  | 8   | 7    | 5  | 2  | 9  |\n",
    "| 2   | 7   | 8  | 7   | 5    | 7  | 3  | 8  |\n",
    "| 3   | 9   | 7  | 9   | 6    | 6  | 4  | 7  |\n",
    "| 4   | 6   | 8  | 8   | 8    | 4  | 3  | 6  |\n",
    "| 5   | 8   | 6  | 6   | 9    | 8  | 3  | 8  |\n",
    "| 6   | 8   | 9  | 5   | 7    | 4  | 4  | 8  |"
   ],
   "metadata": {
    "collapsed": false
   },
   "id": "79d05090004ed07e"
  },
  {
   "cell_type": "code",
   "execution_count": 6,
   "outputs": [
    {
     "data": {
      "text/plain": "array([[8, 9, 8, 7, 5, 2, 9],\n       [7, 8, 8, 5, 7, 3, 8],\n       [9, 7, 9, 6, 6, 4, 7],\n       [6, 8, 8, 8, 4, 3, 6],\n       [8, 6, 6, 9, 8, 3, 8],\n       [8, 9, 5, 7, 4, 4, 8]])"
     },
     "execution_count": 6,
     "metadata": {},
     "output_type": "execute_result"
    }
   ],
   "source": [
    "import numpy as np\n",
    "\n",
    "A = np.array([[8,9,8,7,5,2,9],\n",
    "     [7,8,8,5,7,3,8],\n",
    "     [9,7,9,6,6,4,7],\n",
    "     [6,8,8,8,4,3,6],\n",
    "     [8,6,6,9,8,3,8],\n",
    "     [8,9,5,7,4,4,8]])\n",
    "\n",
    "A"
   ],
   "metadata": {
    "collapsed": false,
    "ExecuteTime": {
     "end_time": "2023-08-25T04:21:28.765014900Z",
     "start_time": "2023-08-25T04:21:28.729006200Z"
    }
   },
   "id": "22bcbc6b26404c90"
  },
  {
   "cell_type": "markdown",
   "source": [
    "##### 建立参考数列\n",
    "\n",
    "参考数列可以理解为正理想解的概念，取每个指标的最大值即可：\n",
    "\n",
    "$$x_o(k) = max_{1\\leq i \\leq 6}(A_{ik})$$"
   ],
   "metadata": {
    "collapsed": false
   },
   "id": "87378e1032390268"
  },
  {
   "cell_type": "code",
   "execution_count": 7,
   "id": "initial_id",
   "metadata": {
    "collapsed": true,
    "ExecuteTime": {
     "end_time": "2023-08-25T04:21:28.785014800Z",
     "start_time": "2023-08-25T04:21:28.745014700Z"
    }
   },
   "outputs": [
    {
     "data": {
      "text/plain": "array([9, 9, 9, 9, 8, 4, 9])"
     },
     "execution_count": 7,
     "metadata": {},
     "output_type": "execute_result"
    }
   ],
   "source": [
    "def ref(data):\n",
    "    x = np.max(data, axis=0)\n",
    "    return x \n",
    "\n",
    "ref(A)"
   ]
  }
 ],
 "metadata": {
  "kernelspec": {
   "display_name": "Python 3",
   "language": "python",
   "name": "python3"
  },
  "language_info": {
   "codemirror_mode": {
    "name": "ipython",
    "version": 2
   },
   "file_extension": ".py",
   "mimetype": "text/x-python",
   "name": "python",
   "nbconvert_exporter": "python",
   "pygments_lexer": "ipython2",
   "version": "2.7.6"
  }
 },
 "nbformat": 4,
 "nbformat_minor": 5
}
