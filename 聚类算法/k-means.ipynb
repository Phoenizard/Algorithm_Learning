{
 "cells": [
  {
   "cell_type": "markdown",
   "source": [
    "## 数学建模算法：K-Means 聚类算法\n",
    "\n",
    "### 概念\n",
    "\n",
    "聚类属于无监督学习，指在没有参照系下对样本集合进行分组，这种分组往往是无标签化的，即分类后无法知道这一类的意义，仅仅是在特征上具有较大相似性。K-means算法是常见的聚类算法，在给定分类组数的情况下算法自动进行分类。\n",
    "\n",
    "K-means算法支持大于2维的特性维度，但不支持过大维度的特性。同时对噪声点较为敏感，需要进行一定的数据处理。在聚类上，关键依据是样本的特征向量在空间中互相的距离。\n",
    "\n",
    "### 几何距离\n",
    "\n",
    "距离即为两个样本的间隔，定义样本的特征为：\n",
    "$$\n",
    "X = [x_1, x_2, \\dots, x_d]^T, d \\ refers\\  to\\  the\\  Dimension\n",
    "$$\n",
    "\n",
    "常见距离算法如下：\n",
    "（可参考知乎文章：https://zhuanlan.zhihu.com/p/374627115）\n",
    "\n",
    "\n",
    "1. 明氏距离：\n",
    "    $$\n",
    "    pdist(x, 'minkowski', r) = [\\sum_{k=1}^d{|x_i_k - x_j_k|^m}]^{\\frac{1}{m}}\n",
    "    $$\n",
    "+ 当m=1时为曼哈顿距离\n",
    "    当数据集具有离散和/或二进制属性时，Manhattan似乎工作得很好，因为它考虑了在这些属性的值中实际可以采用的路径。以欧几里得距离为例，它会在两个向量之间形成一条直线，但实际上这是不可能的。\n",
    "+ 当m=2时为欧几里得距离 \n",
    "    尽管欧几里德距离是一种常见的距离度量，但它不是尺度不变的，这意味着计算的距离可能是倾斜的，这取决于特征的单位。通常，在使用这个距离度量之前，需要对数据进行标准化（normalize）。\n",
    "\n",
    "2. 切氏距离:\n",
    "    $$\n",
    "    max(abs(x_i-x_j)) = {max}\\limits_{1\\leq k \\leq d} |x_i_k-x_j_k|\n",
    "    $$\n",
    "3. 马氏距离：\n",
    "    马氏距离是欧几里得距离维度，权重归一化后的集合距离，即经过了标准化处理，较为常用：\n",
    "    $$\n",
    "    pdist(x, 'mahal') = [(x_i-x_j)^T \\sum^{-1}(x_i-x_j)]^{\\frac{1}{2}}\n",
    "    $$\n",
    "   \n",
    "### 算法实现\n",
    "\n",
    "K-means 有一个著名的解释：牧师—村民模型：\n",
    "\n",
    "> 有四个牧师去郊区布道，一开始牧师们随意选了几个布道点，并且把这几个布道点的情况公告给了郊区所有的村民，于是每个村民到离自己家最近的布道点去听课。听课之后，大家觉得距离太远了，于是每个牧师统计了一下自己的课上所有的村民的地址，搬到了所有地址的中心地带，并且在海报上更新了自己的布道点的位置。牧师每一次移动不可能离所有人都更近，有的人发现A牧师移动以后自己还不如去B牧师处听课更近，于是每个村民又去了离自己最近的布道点。就这样，牧师每个礼拜更新自己的位置，村民根据自己的情况选择布道点，最终稳定了下来。我们可以看到该牧师的目的是为了让每个村民到其最近中心点的距离和最小。\n",
    "\n",
    "从上述故事不难发现K-means分为两步：\n",
    "1. 统计k个组的中心对象，并重新按k个中心对象确立k个组\n",
    "2. 以中心对象为准则，每个点与k个中心分别计算距离并归近最近中心点的组\n",
    "直到中心对象不再移动，分类完毕。而整个过程的初始是随机给k个点。\n",
    "（虽然这里我们说随机初始值，但是如果初始点与期望分组中心越接近，结果越准确）\n",
    "\n",
    "\n",
    "#### 鸢尾花聚类\n",
    "\n",
    "鸢尾花数据集是机器学习中相当经典的例子，里面仅仅150个样本，每个样本有4列特征。我们仅仅使用petalWidth, petalLength两组特征数据："
   ],
   "metadata": {
    "collapsed": false
   },
   "id": "d77b3c88af7943ba"
  },
  {
   "cell_type": "code",
   "execution_count": 6,
   "id": "initial_id",
   "metadata": {
    "collapsed": true,
    "ExecuteTime": {
     "end_time": "2023-08-23T08:12:10.849277100Z",
     "start_time": "2023-08-23T08:12:10.837852Z"
    }
   },
   "outputs": [
    {
     "name": "stdout",
     "output_type": "stream",
     "text": [
      "[[1.4, 0.2], [1.4, 0.2], [1.3, 0.2], [1.5, 0.2], [1.4, 0.2]]\n"
     ]
    }
   ],
   "source": [
    "from sklearn.datasets import load_iris     #从sklearn库中导入鸢尾花数据集\n",
    "iris = load_iris()\n",
    "Y = iris.target\n",
    "data = []\n",
    "petalLength = []\n",
    "petalWidth = []\n",
    "for i in iris.data:\n",
    "    data.append([i[2],i[3]])\n",
    "    petalLength.append(i[2])\n",
    "    petalWidth.append(i[3])\n",
    "    \n",
    "print(data[:5]) # 打印前5个数据"
   ]
  },
  {
   "cell_type": "markdown",
   "source": [
    "在K-means算法前，还需要定义两个函数，计算距离与计算组的中心对象，这里我们使用欧式距离："
   ],
   "metadata": {
    "collapsed": false
   },
   "id": "f545e85164a51592"
  },
  {
   "cell_type": "code",
   "execution_count": 22,
   "outputs": [],
   "source": [
    "import numpy as np\n",
    "import math, random\n",
    "import matplotlib.pyplot as plt\n",
    "\n",
    "def eucliDist(A, B):\n",
    "    # 多维欧拉距离\n",
    "    return float('{:.10f}'.format(math.sqrt(sum([(a - b)**2 for (a,b) in zip(A,B)]))))\n",
    "\n",
    "\n",
    "def centerPoint(point_set):\n",
    "    # 获取点的维度\n",
    "    dim = len(point_set[0])\n",
    "    res = []\n",
    "    for i in range(dim):\n",
    "        res.append(0)\n",
    "    for i in range(dim):\n",
    "        for j in point_set:\n",
    "            res[i] += j[i]\n",
    "    for i in range(dim):\n",
    "        res[i] = res[i] / len(point_set) # 每个维度依次求平均，重心求法\n",
    "    return res"
   ],
   "metadata": {
    "collapsed": false,
    "ExecuteTime": {
     "end_time": "2023-08-23T08:50:27.357191700Z",
     "start_time": "2023-08-23T08:50:27.341464Z"
    }
   },
   "id": "bda23580269252d"
  },
  {
   "cell_type": "markdown",
   "source": [
    "进入K-means算法部分，按照原理模拟即可："
   ],
   "metadata": {
    "collapsed": false
   },
   "id": "1fc8088af17dadda"
  },
  {
   "cell_type": "code",
   "execution_count": 34,
   "outputs": [],
   "source": [
    "def myKMeans(n_clusters):\n",
    "    key_index = random.sample(range(1, len(data)), n_clusters)\n",
    "    # key_index = [20, 80, 140]\n",
    "    # 这里并没有选择随机，而是选择了三个直观符合分类分布的三个点为初始值\n",
    "    is_change = True\n",
    "    key_point = []\n",
    "    group = [[] for _ in range(n_clusters)]\n",
    "    cmp = 0\n",
    "    # 初始化：以n个关键点分组\n",
    "    for i in range(n_clusters):\n",
    "        group[i].append(data[key_index[i]])\n",
    "        # i同时对应group与key\n",
    "        key_point.append(data[key_index[i]])\n",
    "        \n",
    "    # 迭代器\n",
    "    while is_change:\n",
    "        # 遍历所有点\n",
    "        for i in range(len(data)):\n",
    "            # 与n个目标点比较\n",
    "            tmp_dis = []\n",
    "            for j in range(n_clusters):\n",
    "                tmp_dis.append(eucliDist(key_point[j], data[i]))\n",
    "            min_index = np.argmin(np.array(tmp_dis))\n",
    "            group[min_index].append(data[i])\n",
    "\n",
    "        # 计算每组的中心对象\n",
    "        tmp_key_point = []\n",
    "        for i in range(n_clusters):\n",
    "            new_center = centerPoint(group[i])\n",
    "            tmp_key_point.append(new_center)\n",
    "            cmp += float(eucliDist(new_center, key_point[i]))\n",
    "        # 比较中心点与目标点差异\n",
    "        if cmp < 0.00002:\n",
    "            is_change = False\n",
    "            key_point = tmp_key_point\n",
    "        else:\n",
    "            is_change = True\n",
    "            key_point = tmp_key_point\n",
    "            cmp = 0\n",
    "            for i in range(n_clusters):\n",
    "                group[i][0] = key_point[i]\n",
    "    predicted = []\n",
    "    for d in data:\n",
    "        for j in range(n_clusters):\n",
    "            if d in group[j]:\n",
    "                predicted.append(j)\n",
    "                break\n",
    "    return predicted, group, key_point"
   ],
   "metadata": {
    "collapsed": false,
    "ExecuteTime": {
     "end_time": "2023-08-23T09:06:57.802696100Z",
     "start_time": "2023-08-23T09:06:57.787125700Z"
    }
   },
   "id": "9999686f42735d3"
  },
  {
   "cell_type": "markdown",
   "source": [
    "接收结果并且数据可视化结果："
   ],
   "metadata": {
    "collapsed": false
   },
   "id": "b77938eb77c6be83"
  },
  {
   "cell_type": "code",
   "execution_count": 12,
   "outputs": [
    {
     "data": {
      "text/plain": "<Figure size 640x480 with 1 Axes>",
      "image/png": "[encoded data removed]"
     },
     "metadata": {},
     "output_type": "display_data"
    }
   ],
   "source": [
    "n = 3\n",
    "p, g, k = myKMeans(n)\n",
    "colors_p = []\n",
    "for i in p:\n",
    "    if i == 0:\n",
    "        colors_p.append(\"red\")\n",
    "    elif i == 1:\n",
    "        colors_p.append(\"blue\")\n",
    "    else:\n",
    "        colors_p.append(\"green\")\n",
    "\n",
    "plt.title(\"MyPredicted\")\n",
    "plt.xlabel('petal length')\n",
    "plt.ylabel('petal width')\n",
    "plt.scatter(petalLength, petalWidth, c=colors_p)\n",
    "plt.show()"
   ],
   "metadata": {
    "collapsed": false,
    "ExecuteTime": {
     "end_time": "2023-08-23T08:26:12.438641900Z",
     "start_time": "2023-08-23T08:26:11.311971600Z"
    }
   },
   "id": "6f7d4f7e546bdd00"
  },
  {
   "cell_type": "markdown",
   "source": [
    "### 选择K值\n",
    "\n",
    "在上述例子中，由于我们已知鸢尾花的分类共有3个，所以定义K为3，但是现实中可能我们无法判断出K的取值，这时候我们可以使用手肘法去判断K的合理数值：\n",
    "\n",
    "1. 定义聚类的误差平方和：\n",
    "    $$\n",
    "    SSE = \\sum\\limits_{i=1}^{k} \\sum\\limits_{x\\in{c_i}} ||x-\\mu_i||^2\n",
    "    $$"
   ],
   "metadata": {
    "collapsed": false
   },
   "id": "92ca2a36a6ab3343"
  },
  {
   "cell_type": "code",
   "execution_count": 35,
   "outputs": [
    {
     "name": "stdout",
     "output_type": "stream",
     "text": [
      "[3, 3, 3, 3, 3, 3, 3, 3, 3, 3, 3, 3, 3, 3, 3, 3, 3, 3, 3, 3, 3, 3, 3, 3, 3, 3, 3, 3, 3, 3, 3, 3, 3, 3, 3, 3, 3, 3, 3, 3, 3, 3, 3, 3, 3, 3, 3, 3, 3, 3, 2, 2, 1, 2, 2, 2, 1, 2, 2, 2, 2, 2, 2, 2, 2, 2, 2, 2, 2, 2, 1, 2, 1, 2, 2, 2, 1, 1, 2, 2, 2, 2, 2, 1, 2, 1, 1, 2, 2, 2, 2, 2, 2, 2, 2, 2, 2, 2, 2, 2, 0, 1, 0, 0, 0, 0, 1, 0, 0, 0, 1, 1, 0, 1, 0, 0, 1, 0, 0, 1, 0, 1, 0, 1, 0, 0, 1, 1, 0, 0, 0, 0, 0, 1, 1, 0, 0, 1, 1, 0, 0, 0, 1, 0, 0, 0, 1, 1, 0, 1]\n",
      "150\n"
     ]
    }
   ],
   "source": [
    "def square_error(centers, d, p):\n",
    "    cnt = 0\n",
    "    for i in range(len(d)):\n",
    "        c = p[i]\n",
    "        cnt += (eucliDist(centers[c], d[i]) ** 2)\n",
    "    return cnt"
   ],
   "metadata": {
    "collapsed": false,
    "ExecuteTime": {
     "end_time": "2023-08-23T09:07:12.158084800Z",
     "start_time": "2023-08-23T09:07:07.470910800Z"
    }
   },
   "id": "4bb41dfa52915005"
  },
  {
   "cell_type": "markdown",
   "source": [
    "2. 返回不同K下的取值:寻找图中的曲折点即可"
   ],
   "metadata": {
    "collapsed": false
   },
   "id": "430ca99fe802acc7"
  },
  {
   "cell_type": "code",
   "execution_count": 37,
   "outputs": [
    {
     "name": "stdout",
     "output_type": "stream",
     "text": [
      "[86.39021984427383, 31.376690842832055, 30.7879545602964, 48.880068799307956, 31.622228759240915, 15.540982608764894, 76.7106943462022, 9.225757993124816]\n"
     ]
    }
   ],
   "source": [
    "sse = []\n",
    "for i in range(2,10):\n",
    "    p,g,k = myKMeans(i)\n",
    "    sse.append(square_error(k, data, p))\n",
    "    \n",
    "print(sse)"
   ],
   "metadata": {
    "collapsed": false,
    "ExecuteTime": {
     "end_time": "2023-08-23T09:29:02.518656400Z",
     "start_time": "2023-08-23T09:21:57.586071400Z"
    }
   },
   "id": "74a21433e8e19001"
  },
  {
   "cell_type": "markdown",
   "source": [
    "可视化SSE列表："
   ],
   "metadata": {
    "collapsed": false
   },
   "id": "ca0fb0b27ef0d4b4"
  },
  {
   "cell_type": "code",
   "execution_count": 38,
   "outputs": [
    {
     "data": {
      "text/plain": "<Figure size 640x480 with 1 Axes>",
      "image/png": "[encoded data removed]"
     },
     "metadata": {},
     "output_type": "display_data"
    }
   ],
   "source": [
    "plt.title(\"SSE\")\n",
    "plt.xlabel('k')\n",
    "plt.ylabel('SSE')\n",
    "plt.plot([2,3,4,5,6,7,8,9],sse)\n",
    "\n",
    "plt.show()"
   ],
   "metadata": {
    "collapsed": false,
    "ExecuteTime": {
     "end_time": "2023-08-23T09:34:35.709187100Z",
     "start_time": "2023-08-23T09:34:35.613327300Z"
    }
   },
   "id": "b34c84b66747ee32"
  }
 ],
 "metadata": {
  "kernelspec": {
   "display_name": "Python 3",
   "language": "python",
   "name": "python3"
  },
  "language_info": {
   "codemirror_mode": {
    "name": "ipython",
    "version": 2
   },
   "file_extension": ".py",
   "mimetype": "text/x-python",
   "name": "python",
   "nbconvert_exporter": "python",
   "pygments_lexer": "ipython2",
   "version": "2.7.6"
  }
 },
 "nbformat": 4,
 "nbformat_minor": 5
}
